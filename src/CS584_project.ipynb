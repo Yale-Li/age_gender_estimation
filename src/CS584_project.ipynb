{
 "cells": [
  {
   "cell_type": "code",
   "execution_count": 2,
   "id": "5f167940",
   "metadata": {},
   "outputs": [
    {
     "name": "stderr",
     "output_type": "stream",
     "text": [
      "2022-11-12 09:51:43.326201: I tensorflow/core/platform/cpu_feature_guard.cc:193] This TensorFlow binary is optimized with oneAPI Deep Neural Network Library (oneDNN) to use the following CPU instructions in performance-critical operations:  AVX2 FMA\n",
      "To enable them in other operations, rebuild TensorFlow with the appropriate compiler flags.\n"
     ]
    }
   ],
   "source": [
    "import tensorflow as tf\n",
    "from tensorflow.keras import datasets, layers, models\n",
    "import matplotlib.pyplot as plt\n",
    "import numpy as np\n",
    "from tensorflow.keras import Model\n",
    "from tensorflow.keras.utils import to_categorical\n",
    "import pandas as pd\n",
    "from tensorflow.keras.optimizers import RMSprop, Adam\n",
    "import os\n",
    "from tensorflow.keras.preprocessing.image import ImageDataGenerator\n",
    "from tensorflow.keras.utils import load_img, img_to_array\n",
    "import keras.backend as K\n",
    "import pickle\n",
    "from tensorflow.keras.utils import to_categorical\n",
    "from keras.layers import Input\n",
    "from tensorflow.keras.layers import (\n",
    "    BatchNormalization, Conv2D, MaxPooling2D, Activation, Flatten, Dropout, Dense,concatenate,add\n",
    ")\n",
    "from keras.optimizers import SGD\n",
    "import glob\n",
    "from PIL import Image\n",
    "from tensorflow.keras.callbacks import ModelCheckpoint\n",
    "from tqdm.notebook import tqdm\n",
    "import seaborn as sns\n",
    "from keras import Sequential\n",
    "import math\n",
    "import keras\n",
    "from keras.preprocessing import image\n",
    "import configparser"
   ]
  },
  {
   "cell_type": "markdown",
   "id": "e48de676",
   "metadata": {},
   "source": [
    "## Loading Data"
   ]
  },
  {
   "cell_type": "code",
   "execution_count": 3,
   "id": "69bec196",
   "metadata": {},
   "outputs": [
    {
     "data": {
      "application/vnd.jupyter.widget-view+json": {
       "model_id": "4ffa17bd591c40b083daf85a7ba6d358",
       "version_major": 2,
       "version_minor": 0
      },
      "text/plain": [
       "  0%|          | 0/23708 [00:00<?, ?it/s]"
      ]
     },
     "metadata": {},
     "output_type": "display_data"
    },
    {
     "data": {
      "application/vnd.jupyter.widget-view+json": {
       "model_id": "1e778e74d395486fa20307d425ee55dd",
       "version_major": 2,
       "version_minor": 0
      },
      "text/plain": [
       "  0%|          | 0/23708 [00:00<?, ?it/s]"
      ]
     },
     "metadata": {},
     "output_type": "display_data"
    }
   ],
   "source": [
    "BASE_DIR = '../data/UTKFace/'\n",
    "config = configparser.ConfigParser()\n",
    "config.read('config.ini')\n",
    "img_size = (int(config['IMG']['width']), int(config['IMG']['height']))\n",
    "\n",
    "image_paths = []\n",
    "age_labels = []\n",
    "gender_labels = []\n",
    "\n",
    "for filename in tqdm(os.listdir(BASE_DIR)):\n",
    "    image_path = os.path.join(BASE_DIR, filename)\n",
    "    temp = filename.split('_')\n",
    "    age = int(temp[0])\n",
    "    gender = int(temp[1])\n",
    "    image_paths.append(image_path)\n",
    "    age_labels.append(age)\n",
    "    gender_labels.append(gender)\n",
    "    \n",
    "# convert to dataframe\n",
    "df = pd.DataFrame()\n",
    "df['image'], df['age'], df['gender'] = image_paths, age_labels, gender_labels\n",
    "gender_dict = {0:'Male', 1:'Female'}\n",
    "\n",
    "def extract_features(images):\n",
    "    features = []\n",
    "    for image in tqdm(images):\n",
    "        img = load_img(image)\n",
    "        img = img.resize(img_size, Image.ANTIALIAS)\n",
    "        img = np.array(img)\n",
    "        features.append(img)\n",
    "        \n",
    "    features = np.array(features)\n",
    "    \n",
    "    return features\n",
    "\n",
    "X = extract_features(df['image'])\n",
    "X = X/255.0\n",
    "\n",
    "y_gender = np.array(df['gender'])\n",
    "y_age = np.array(df['age'])\n",
    "x_train = X[:14000]\n",
    "y_gender_train = y_gender[:14000]\n",
    "x_va = X[13000:]\n",
    "y_gender_va = y_gender[13000:]"
   ]
  },
  {
   "cell_type": "markdown",
   "id": "aa0d111c",
   "metadata": {},
   "source": [
    "## Data Analysis"
   ]
  },
  {
   "cell_type": "code",
   "execution_count": null,
   "id": "d94274a4",
   "metadata": {},
   "outputs": [],
   "source": []
  },
  {
   "cell_type": "code",
   "execution_count": null,
   "id": "3f4d8580",
   "metadata": {},
   "outputs": [],
   "source": []
  },
  {
   "cell_type": "code",
   "execution_count": null,
   "id": "880d152a",
   "metadata": {},
   "outputs": [],
   "source": []
  },
  {
   "cell_type": "code",
   "execution_count": null,
   "id": "28b20200",
   "metadata": {},
   "outputs": [],
   "source": []
  },
  {
   "cell_type": "markdown",
   "id": "4e686ad7",
   "metadata": {},
   "source": [
    "## Build Gender Network"
   ]
  },
  {
   "cell_type": "code",
   "execution_count": 4,
   "id": "25283184",
   "metadata": {},
   "outputs": [],
   "source": [
    "def plot_loss_his(history):\n",
    "    fig1 = plt.figure(\"Figure 1\")\n",
    "    plt.plot(history.history['loss'], label='loss')\n",
    "    plt.plot(history.history['val_loss'], label='val_loss')\n",
    "    # plt.ylim([0, 100])\n",
    "    plt.xlabel('Epoch')\n",
    "    plt.ylabel('loss')\n",
    "    plt.title(\"\")\n",
    "    plt.legend()\n",
    "    plt.grid(True)\n",
    "    \n",
    "def plot_acc_his(history):\n",
    "    fig1 = plt.figure(\"Figure 2\")\n",
    "    plt.plot(history.history['accuracy'], label='accuracy')\n",
    "    plt.plot(history.history['val_accuracy'], label='val_accuracy')\n",
    "    # plt.ylim([0, 100])\n",
    "    plt.xlabel('Epoch')\n",
    "    plt.ylabel('acc')\n",
    "    plt.title(\"\")\n",
    "    plt.legend()\n",
    "    plt.grid(True)"
   ]
  },
  {
   "cell_type": "code",
   "execution_count": 6,
   "id": "a509e845",
   "metadata": {
    "scrolled": true
   },
   "outputs": [
    {
     "name": "stdout",
     "output_type": "stream",
     "text": [
      "Metal device set to: AMD Radeon Pro 5300M\n",
      "\n",
      "systemMemory: 16.00 GB\n",
      "maxCacheSize: 1.99 GB\n",
      "\n"
     ]
    },
    {
     "name": "stderr",
     "output_type": "stream",
     "text": [
      "2022-11-12 09:54:08.879114: I tensorflow/core/platform/cpu_feature_guard.cc:193] This TensorFlow binary is optimized with oneAPI Deep Neural Network Library (oneDNN) to use the following CPU instructions in performance-critical operations:  AVX2 FMA\n",
      "To enable them in other operations, rebuild TensorFlow with the appropriate compiler flags.\n",
      "2022-11-12 09:54:08.886099: I tensorflow/core/common_runtime/pluggable_device/pluggable_device_factory.cc:306] Could not identify NUMA node of platform GPU ID 0, defaulting to 0. Your kernel may not have been built with NUMA support.\n",
      "2022-11-12 09:54:08.886824: I tensorflow/core/platform/cpu_feature_guard.cc:193] This TensorFlow binary is optimized with oneAPI Deep Neural Network Library (oneDNN) to use the following CPU instructions in performance-critical operations:  AVX2 FMA\n",
      "To enable them in other operations, rebuild TensorFlow with the appropriate compiler flags.\n",
      "2022-11-12 09:54:08.887245: I tensorflow/core/common_runtime/pluggable_device/pluggable_device_factory.cc:272] Created TensorFlow device (/job:localhost/replica:0/task:0/device:GPU:0 with 0 MB memory) -> physical PluggableDevice (device: 0, name: METAL, pci bus id: <undefined>)\n"
     ]
    },
    {
     "name": "stdout",
     "output_type": "stream",
     "text": [
      "Model: \"model\"\n",
      "__________________________________________________________________________________________________\n",
      " Layer (type)                   Output Shape         Param #     Connected to                     \n",
      "==================================================================================================\n",
      " input_1 (InputLayer)           [(None, 128, 128, 3  0           []                               \n",
      "                                )]                                                                \n",
      "                                                                                                  \n",
      " conv2d (Conv2D)                (None, 128, 128, 64  9472        ['input_1[0][0]']                \n",
      "                                )                                                                 \n",
      "                                                                                                  \n",
      " max_pooling2d (MaxPooling2D)   (None, 42, 42, 64)   0           ['conv2d[0][0]']                 \n",
      "                                                                                                  \n",
      " conv2d_2 (Conv2D)              (None, 42, 42, 32)   2080        ['max_pooling2d[0][0]']          \n",
      "                                                                                                  \n",
      " batch_normalization (BatchNorm  (None, 42, 42, 32)  128         ['conv2d_2[0][0]']               \n",
      " alization)                                                                                       \n",
      "                                                                                                  \n",
      " conv2d_3 (Conv2D)              (None, 42, 42, 32)   9248        ['batch_normalization[0][0]']    \n",
      "                                                                                                  \n",
      " batch_normalization_1 (BatchNo  (None, 42, 42, 32)  128         ['conv2d_3[0][0]']               \n",
      " rmalization)                                                                                     \n",
      "                                                                                                  \n",
      " conv2d_1 (Conv2D)              (None, 42, 42, 32)   2080        ['max_pooling2d[0][0]']          \n",
      "                                                                                                  \n",
      " add (Add)                      (None, 42, 42, 32)   0           ['batch_normalization_1[0][0]',  \n",
      "                                                                  'conv2d_1[0][0]']               \n",
      "                                                                                                  \n",
      " activation (Activation)        (None, 42, 42, 32)   0           ['add[0][0]']                    \n",
      "                                                                                                  \n",
      " conv2d_6 (Conv2D)              (None, 42, 42, 64)   2112        ['activation[0][0]']             \n",
      "                                                                                                  \n",
      " batch_normalization_3 (BatchNo  (None, 42, 42, 64)  256         ['conv2d_6[0][0]']               \n",
      " rmalization)                                                                                     \n",
      "                                                                                                  \n",
      " conv2d_7 (Conv2D)              (None, 42, 42, 64)   36928       ['batch_normalization_3[0][0]']  \n",
      "                                                                                                  \n",
      " batch_normalization_4 (BatchNo  (None, 42, 42, 64)  256         ['conv2d_7[0][0]']               \n",
      " rmalization)                                                                                     \n",
      "                                                                                                  \n",
      " conv2d_5 (Conv2D)              (None, 42, 42, 64)   2112        ['activation[0][0]']             \n",
      "                                                                                                  \n",
      " add_1 (Add)                    (None, 42, 42, 64)   0           ['batch_normalization_4[0][0]',  \n",
      "                                                                  'conv2d_5[0][0]']               \n",
      "                                                                                                  \n",
      " activation_1 (Activation)      (None, 42, 42, 64)   0           ['add_1[0][0]']                  \n",
      "                                                                                                  \n",
      " conv2d_10 (Conv2D)             (None, 42, 42, 128)  8320        ['activation_1[0][0]']           \n",
      "                                                                                                  \n",
      " batch_normalization_6 (BatchNo  (None, 42, 42, 128)  512        ['conv2d_10[0][0]']              \n",
      " rmalization)                                                                                     \n",
      "                                                                                                  \n",
      " conv2d_11 (Conv2D)             (None, 42, 42, 128)  147584      ['batch_normalization_6[0][0]']  \n",
      "                                                                                                  \n",
      " batch_normalization_7 (BatchNo  (None, 42, 42, 128)  512        ['conv2d_11[0][0]']              \n",
      " rmalization)                                                                                     \n",
      "                                                                                                  \n",
      " conv2d_9 (Conv2D)              (None, 42, 42, 128)  8320        ['activation_1[0][0]']           \n",
      "                                                                                                  \n",
      " add_2 (Add)                    (None, 42, 42, 128)  0           ['batch_normalization_7[0][0]',  \n",
      "                                                                  'conv2d_9[0][0]']               \n",
      "                                                                                                  \n",
      " activation_2 (Activation)      (None, 42, 42, 128)  0           ['add_2[0][0]']                  \n",
      "                                                                                                  \n",
      " conv2d_14 (Conv2D)             (None, 42, 42, 256)  33024       ['activation_2[0][0]']           \n",
      "                                                                                                  \n",
      " batch_normalization_9 (BatchNo  (None, 42, 42, 256)  1024       ['conv2d_14[0][0]']              \n",
      " rmalization)                                                                                     \n",
      "                                                                                                  \n",
      " conv2d_15 (Conv2D)             (None, 42, 42, 256)  590080      ['batch_normalization_9[0][0]']  \n",
      "                                                                                                  \n",
      " batch_normalization_10 (BatchN  (None, 42, 42, 256)  1024       ['conv2d_15[0][0]']              \n",
      " ormalization)                                                                                    \n",
      "                                                                                                  \n",
      " conv2d_13 (Conv2D)             (None, 42, 42, 256)  33024       ['activation_2[0][0]']           \n",
      "                                                                                                  \n",
      " add_3 (Add)                    (None, 42, 42, 256)  0           ['batch_normalization_10[0][0]', \n",
      "                                                                  'conv2d_13[0][0]']              \n",
      "                                                                                                  \n",
      " activation_3 (Activation)      (None, 42, 42, 256)  0           ['add_3[0][0]']                  \n",
      "                                                                                                  \n",
      " conv2d_17 (Conv2D)             (None, 42, 42, 256)  16640       ['max_pooling2d[0][0]']          \n",
      "                                                                                                  \n",
      " add_4 (Add)                    (None, 42, 42, 256)  0           ['activation_3[0][0]',           \n",
      "                                                                  'conv2d_17[0][0]']              \n",
      "                                                                                                  \n",
      " activation_4 (Activation)      (None, 42, 42, 256)  0           ['add_4[0][0]']                  \n",
      "                                                                                                  \n",
      " batch_normalization_12 (BatchN  (None, 42, 42, 256)  1024       ['activation_4[0][0]']           \n",
      " ormalization)                                                                                    \n",
      "                                                                                                  \n",
      " max_pooling2d_1 (MaxPooling2D)  (None, 10, 10, 256)  0          ['batch_normalization_12[0][0]'] \n",
      "                                                                                                  \n",
      " flatten (Flatten)              (None, 25600)        0           ['max_pooling2d_1[0][0]']        \n",
      "                                                                                                  \n",
      " dense (Dense)                  (None, 256)          6553856     ['flatten[0][0]']                \n",
      "                                                                                                  \n",
      " dropout (Dropout)              (None, 256)          0           ['dense[0][0]']                  \n",
      "                                                                                                  \n",
      " dropout_1 (Dropout)            (None, 256)          0           ['dropout[0][0]']                \n",
      "                                                                                                  \n",
      " gender_out (Dense)             (None, 1)            257         ['dropout_1[0][0]']              \n",
      "                                                                                                  \n",
      "==================================================================================================\n",
      "Total params: 7,460,001\n",
      "Trainable params: 7,457,569\n",
      "Non-trainable params: 2,432\n",
      "__________________________________________________________________________________________________\n"
     ]
    }
   ],
   "source": [
    "# n = 64,128,256,512\n",
    "def residual_module(inputs, n):\n",
    "   # 1x1 conv with n filters\n",
    "    identity_layer = Conv2D(n, (1,1), activation='relu')(inputs)\n",
    "    \n",
    "    conv_1 = Conv2D(n, kernel_size=(1, 1), activation='relu',padding='same') (inputs)\n",
    "    conv_1 = layers.BatchNormalization()(conv_1)\n",
    "    conv_2 = Conv2D(n, kernel_size=(3, 3), activation='relu',padding='same') (conv_1)\n",
    "    conv_2 = layers.BatchNormalization()(conv_2)\n",
    "    conv_3 = Conv2D(n, kernel_size=(1, 1), activation='relu',padding='same') (conv_2)\n",
    "    conv_3 = layers.BatchNormalization()(conv_3)\n",
    "  \n",
    "    out = add([conv_2, identity_layer])\n",
    "    out = Activation('relu')(out)\n",
    "    return out\n",
    "\n",
    "input_shape = (img_size + (3,))\n",
    "inputs = Input((input_shape))\n",
    "\n",
    "#pre-conv layer\n",
    "pre_conv = Conv2D(64,(7,7),activation='relu',padding='same')(inputs)\n",
    "pre_layer = MaxPooling2D(pool_size=(3, 3))(pre_conv)\n",
    "\n",
    "\n",
    "# Level 1 of residual, 32 conv filters\n",
    "L1 = residual_module(pre_layer, 32)\n",
    "\n",
    "# # Level 2 of residual, 64 conv filters\n",
    "L2 = residual_module(L1, 64)\n",
    "\n",
    "# # Level 3 of residual, 128 conv filters\n",
    "L3 = residual_module(L2, 128)\n",
    "\n",
    "# # Level 4 of residual, 256 conv filters\n",
    "L4 = residual_module(L3, 256)\n",
    "\n",
    "\n",
    "# Outer level of residual block\n",
    "L0_identity = Conv2D(256, (1,1), padding='same', activation='relu', kernel_initializer='he_normal')(pre_layer)\n",
    "bottleneck = add([L4, L0_identity])\n",
    "bottleneck = Activation('relu')(bottleneck)\n",
    "bottleneck = layers.BatchNormalization()(bottleneck)\n",
    "\n",
    "\n",
    "# max pooling\n",
    "bottleneck = layers.MaxPooling2D(pool_size=(4, 4))(bottleneck)\n",
    "flatten = Flatten() (bottleneck)\n",
    "\n",
    "# fully connected layers\n",
    "dense_1 = Dense(256, activation='relu') (flatten)\n",
    "\n",
    "\n",
    "dropout_1 = Dropout(0.3) (dense_1)\n",
    "dropout_1 = Dropout(0.5) (dropout_1)\n",
    "\n",
    "output_1 = Dense(1, activation='sigmoid', name='gender_out') (dropout_1)\n",
    "\n",
    "\n",
    "gender_model = Model(inputs=inputs, outputs=output_1)\n",
    "\n",
    "gender_model.compile(optimizer=\"adam\", \n",
    "              loss={\n",
    "                  'gender_out': 'binary_crossentropy'},\n",
    "              metrics={       \n",
    "                  'gender_out': 'accuracy'})\n",
    "gender_model.summary()"
   ]
  },
  {
   "cell_type": "code",
   "execution_count": 7,
   "id": "d57ab0a0",
   "metadata": {
    "scrolled": true
   },
   "outputs": [
    {
     "name": "stdout",
     "output_type": "stream",
     "text": [
      "Epoch 1/10\n"
     ]
    },
    {
     "name": "stderr",
     "output_type": "stream",
     "text": [
      "2022-11-12 09:54:51.958691: I tensorflow/core/grappler/optimizers/custom_graph_optimizer_registry.cc:114] Plugin optimizer for device_type GPU is enabled.\n"
     ]
    },
    {
     "name": "stdout",
     "output_type": "stream",
     "text": [
      "219/219 [==============================] - ETA: 0s - loss: 2.3087 - accuracy: 0.6094"
     ]
    },
    {
     "name": "stderr",
     "output_type": "stream",
     "text": [
      "2022-11-12 09:57:12.813364: I tensorflow/core/grappler/optimizers/custom_graph_optimizer_registry.cc:114] Plugin optimizer for device_type GPU is enabled.\n"
     ]
    },
    {
     "name": "stdout",
     "output_type": "stream",
     "text": [
      "219/219 [==============================] - 169s 747ms/step - loss: 2.3087 - accuracy: 0.6094 - val_loss: 2.8422 - val_accuracy: 0.5285\n",
      "Epoch 2/10\n",
      "219/219 [==============================] - 146s 655ms/step - loss: 0.5464 - accuracy: 0.7389 - val_loss: 0.6602 - val_accuracy: 0.7437\n",
      "Epoch 3/10\n",
      "219/219 [==============================] - 167s 765ms/step - loss: 0.4689 - accuracy: 0.7779 - val_loss: 0.4500 - val_accuracy: 0.8069\n",
      "Epoch 4/10\n",
      "219/219 [==============================] - 186s 848ms/step - loss: 0.4014 - accuracy: 0.8136 - val_loss: 0.3732 - val_accuracy: 0.8420\n",
      "Epoch 5/10\n",
      "219/219 [==============================] - 186s 850ms/step - loss: 0.3579 - accuracy: 0.8367 - val_loss: 0.3278 - val_accuracy: 0.8549\n",
      "Epoch 6/10\n",
      "219/219 [==============================] - 191s 872ms/step - loss: 0.3286 - accuracy: 0.8514 - val_loss: 0.3610 - val_accuracy: 0.8317\n",
      "Epoch 7/10\n",
      "219/219 [==============================] - 207s 945ms/step - loss: 0.3119 - accuracy: 0.8618 - val_loss: 0.3143 - val_accuracy: 0.8712\n",
      "Epoch 8/10\n",
      "219/219 [==============================] - 219s 1s/step - loss: 0.2898 - accuracy: 0.8749 - val_loss: 0.3835 - val_accuracy: 0.8251\n",
      "Epoch 9/10\n",
      "219/219 [==============================] - 237s 1s/step - loss: 0.2754 - accuracy: 0.8779 - val_loss: 0.3186 - val_accuracy: 0.8705\n",
      "Epoch 10/10\n",
      "219/219 [==============================] - 240s 1s/step - loss: 0.2631 - accuracy: 0.8875 - val_loss: 0.2828 - val_accuracy: 0.8759\n"
     ]
    },
    {
     "name": "stderr",
     "output_type": "stream",
     "text": [
      "WARNING:absl:Found untraced functions such as _jit_compiled_convolution_op, _jit_compiled_convolution_op, _jit_compiled_convolution_op, _jit_compiled_convolution_op, _jit_compiled_convolution_op while saving (showing 5 of 14). These functions will not be directly callable after loading.\n"
     ]
    },
    {
     "name": "stdout",
     "output_type": "stream",
     "text": [
      "INFO:tensorflow:Assets written to: gender_model/assets\n"
     ]
    },
    {
     "name": "stderr",
     "output_type": "stream",
     "text": [
      "INFO:tensorflow:Assets written to: gender_model/assets\n"
     ]
    }
   ],
   "source": [
    "# train model\n",
    "history = gender_model.fit(x=x_train, y=y_gender_train, batch_size=64, epochs=10, validation_data=[x_va,y_gender_va])\n",
    "gender_model.save(\"gender_model\")"
   ]
  },
  {
   "cell_type": "code",
   "execution_count": 8,
   "id": "096b69e1",
   "metadata": {
    "scrolled": false
   },
   "outputs": [
    {
     "data": {
      "image/png": "[encoded data removed]",
      "text/plain": [
       "<Figure size 432x288 with 1 Axes>"
      ]
     },
     "metadata": {
      "needs_background": "light"
     },
     "output_type": "display_data"
    },
    {
     "data": {
      "image/png": "[encoded data removed]",
      "text/plain": [
       "<Figure size 432x288 with 1 Axes>"
      ]
     },
     "metadata": {
      "needs_background": "light"
     },
     "output_type": "display_data"
    }
   ],
   "source": [
    "plot_acc_his(history)\n",
    "plot_loss_his(history)"
   ]
  },
  {
   "cell_type": "code",
   "execution_count": null,
   "id": "1304c3e0",
   "metadata": {},
   "outputs": [],
   "source": []
  },
  {
   "cell_type": "markdown",
   "id": "6d68bb7a",
   "metadata": {},
   "source": [
    "## Build Age network"
   ]
  },
  {
   "cell_type": "code",
   "execution_count": null,
   "id": "8a310243",
   "metadata": {},
   "outputs": [],
   "source": [
    "BASE_DIR = '../data/UTKFace/'\n",
    "\n",
    "image_paths = []\n",
    "age_labels = []\n",
    "gender_labels = []\n",
    "\n",
    "for filename in tqdm(os.listdir(BASE_DIR)):\n",
    "    image_path = os.path.join(BASE_DIR, filename)\n",
    "    temp = filename.split('_')\n",
    "    age = int(temp[0])\n",
    "    gender = int(temp[1])\n",
    "    image_paths.append(image_path)\n",
    "    age_labels.append(age)\n",
    "    gender_labels.append(gender)\n",
    "    \n",
    "# convert to dataframe\n",
    "df = pd.DataFrame()\n",
    "df['image'], df['age'], df['gender'] = image_paths, age_labels, gender_labels\n",
    "gender_dict = {0:'Male', 1:'Female'}\n",
    "df.sample(frac=1)"
   ]
  },
  {
   "cell_type": "code",
   "execution_count": null,
   "id": "925e0c79",
   "metadata": {},
   "outputs": [],
   "source": [
    "display(Image.open(df['image'][19]))"
   ]
  },
  {
   "cell_type": "code",
   "execution_count": null,
   "id": "c6c77dd2",
   "metadata": {},
   "outputs": [],
   "source": [
    "sns.set_theme()\n",
    "sns.displot(df['age'],kde=True, bins=30)"
   ]
  },
  {
   "cell_type": "code",
   "execution_count": null,
   "id": "f9253d57",
   "metadata": {},
   "outputs": [],
   "source": [
    "age24_28 = []\n",
    "\n",
    "for i in range(len(df)):\n",
    "    if df['age'].iloc[i] >=24 and df['age'].iloc[i] <=28:\n",
    "        age24_28.append(df.iloc[i])\n",
    "age24_28 = pd.DataFrame(age24_28)\n",
    "age24_28 = age24_28.sample(frac=0.3)\n",
    "\n",
    "df1 = df[df['age'] <24]\n",
    "df2 = df[df['age'] >28]\n",
    "df = pd.concat([df1,df2, age24_28], ignore_index = True)"
   ]
  },
  {
   "cell_type": "code",
   "execution_count": null,
   "id": "2ef6ab05",
   "metadata": {},
   "outputs": [],
   "source": [
    "sns.set_theme()\n",
    "sns.distplot(df['age'],kde=True, bins=30)"
   ]
  },
  {
   "cell_type": "code",
   "execution_count": null,
   "id": "29878eb9",
   "metadata": {},
   "outputs": [],
   "source": [
    "df = df[df['age']<=60]"
   ]
  },
  {
   "cell_type": "code",
   "execution_count": null,
   "id": "2fbb552f",
   "metadata": {},
   "outputs": [],
   "source": [
    "sns.set_theme()\n",
    "sns.distplot(df['age'],kde=True, bins=30)"
   ]
  },
  {
   "cell_type": "code",
   "execution_count": null,
   "id": "8ed4f000",
   "metadata": {},
   "outputs": [],
   "source": [
    "age_under4 = []\n",
    "for i in range(len(df)):\n",
    "    if df['age'].iloc[i] <=4:\n",
    "        age_under4.append(df.iloc[i])\n",
    "age_under4 = pd.DataFrame(age_under4)\n",
    "age_under4 = age_under4.sample(frac=0.5)\n",
    "\n",
    "df1 = df[df['age'] >4]\n",
    "df = pd.concat([df1, age_under4], ignore_index = True)"
   ]
  },
  {
   "cell_type": "code",
   "execution_count": null,
   "id": "f435511f",
   "metadata": {},
   "outputs": [],
   "source": [
    "sns.set_theme()\n",
    "sns.distplot(df['age'],kde=True, bins=30)"
   ]
  },
  {
   "cell_type": "code",
   "execution_count": null,
   "id": "dc93fed9",
   "metadata": {},
   "outputs": [],
   "source": [
    "# train, validate data split\n",
    "X = extract_features(df['image'])\n",
    "X = X/255.0\n",
    "y_age = np.array(df['age'])\n",
    "\n",
    "age_off = 5\n",
    "num_group = 60//age_off\n",
    "age_group = []\n",
    "\n",
    "for i in range(len(y_age)):\n",
    "    group_num = int(math.ceil(y_age[i]/age_off))\n",
    "    age_group.append(group_num)\n",
    "    \n",
    "y_age = np.array(age_group)\n",
    "y_age = to_categorical(y_age)\n"
   ]
  },
  {
   "cell_type": "code",
   "execution_count": null,
   "id": "8afee3e0",
   "metadata": {},
   "outputs": [],
   "source": [
    "sns.boxplot(data=df, x='gender', y='age')"
   ]
  },
  {
   "cell_type": "code",
   "execution_count": null,
   "id": "75c5b2a3",
   "metadata": {},
   "outputs": [],
   "source": [
    "# split data based on gender, then do age group prediction\n"
   ]
  },
  {
   "cell_type": "code",
   "execution_count": null,
   "id": "4618b0f9",
   "metadata": {},
   "outputs": [],
   "source": [
    "x_train = X[:14000]\n",
    "y_age_train = y_age[:14000]\n",
    "x_va = X[11000:14500]\n",
    "y_age_va = y_age[11000:14500]\n",
    "\n",
    "inputs = Input(img_size + (3,))\n",
    "conv1 = keras.layers.Conv2D(filters = 16 , kernel_size = (3,3) , padding = 'same' , activation = 'relu') (inputs)\n",
    "conv1 = layers.BatchNormalization()(conv1)\n",
    "maxpool1 = keras.layers.MaxPool2D((2,2)) (conv1)\n",
    "\n",
    "conv2 = keras.layers.Conv2D(filters = 32 , kernel_size = (3,3) , padding = 'same' , activation = 'relu') (maxpool1)\n",
    "conv2 = layers.BatchNormalization()(conv2)\n",
    "maxpool2 = keras.layers.MaxPool2D((2,2)) (conv2)\n",
    "\n",
    "\n",
    "conv3 = keras.layers.Conv2D(filters = 64 , kernel_size = (3,3) , padding = 'same' , activation = 'relu') (maxpool2)\n",
    "conv3 = layers.BatchNormalization()(conv3)\n",
    "maxpool3 = keras.layers.MaxPool2D((2,2)) (conv3)\n",
    "\n",
    "# Flatten\n",
    "\n",
    "flatten = keras.layers.Flatten()(maxpool3)\n",
    "\n",
    "# Dense Layer\n",
    "\n",
    "dense = keras.layers.Dense(128 , activation = 'relu') (flatten)\n",
    "\n",
    "dense = layers.BatchNormalization()(dense)\n",
    "drop = keras.layers.Dropout(0.4) (dense)\n",
    "\n",
    "# Output \n",
    "\n",
    "output = keras.layers.Dense(num_group+1, activation = 'softmax' , name = 'gender_output') (drop)\n",
    "\n",
    "\n",
    "\n",
    "\n",
    "age_model =  keras.models.Model(inputs=[inputs], outputs = [output])\n",
    "\n",
    "age_model.compile(\n",
    "    optimizer=  'adam',\n",
    "    loss= 'categorical_crossentropy',\n",
    "    metrics = 'accuracy'\n",
    ")"
   ]
  },
  {
   "cell_type": "code",
   "execution_count": null,
   "id": "4203bbfb",
   "metadata": {
    "scrolled": true
   },
   "outputs": [],
   "source": [
    "history = age_model.fit(x= x_train , y = y_age_train, batch_size=64, epochs=50, validation_data=(x_va, y_age_va))\n",
    "age_model.save(\"age_model\")"
   ]
  },
  {
   "cell_type": "code",
   "execution_count": null,
   "id": "3deccb82",
   "metadata": {},
   "outputs": [],
   "source": [
    "def plot_loss_his(history):\n",
    "    fig1 = plt.figure(\"Figure 1\")\n",
    "    plt.plot(history.history['loss'], label='loss')\n",
    "    plt.plot(history.history['val_loss'], label='val_loss')\n",
    "    # plt.ylim([0, 100])\n",
    "    plt.xlabel('Epoch')\n",
    "    plt.ylabel('loss')\n",
    "    plt.title(\"\")\n",
    "    plt.legend()\n",
    "    plt.grid(True)\n",
    "    \n",
    "def plot_acc_his(history):\n",
    "    fig1 = plt.figure(\"Figure 2\")\n",
    "    plt.plot(history.history['accuracy'], label='accuracy')\n",
    "    plt.plot(history.history['val_accuracy'], label='val_accuracy')\n",
    "    # plt.ylim([0, 100])\n",
    "    plt.xlabel('Epoch')\n",
    "    plt.ylabel('acc')\n",
    "    plt.title(\"\")\n",
    "    plt.legend()\n",
    "    plt.grid(True)"
   ]
  },
  {
   "cell_type": "code",
   "execution_count": null,
   "id": "01db257e",
   "metadata": {},
   "outputs": [],
   "source": [
    "plot_acc_his(history)\n",
    "plot_loss_his(history)"
   ]
  },
  {
   "cell_type": "code",
   "execution_count": null,
   "id": "0c69198a",
   "metadata": {},
   "outputs": [],
   "source": [
    "def pred_gender_age_group(idx):\n",
    "    \n",
    "    im = X[idx].reshape(1,32,32,3)\n",
    "    # age group predict\n",
    "    age_pred = age_model.predict(im)\n",
    "    i = np.argmax(age_pred.flatten())\n",
    "    low = age_off * (i-1)\n",
    "    high = age_off * i\n",
    "    \n",
    "    # gender predict\n",
    "    gender_pred = gender_model.predict(im)\n",
    "    pred_gender = \"male\" if gender_pred.flatten()[0] <= 0.5 else \"femal\"\n",
    "    true_gender = \"male\" if df[\"gender\"][idx] ==0 else \"femal\"\n",
    "    \n",
    "    \n",
    "    # print info \n",
    "    print(\"True gender: \", true_gender)\n",
    "    print(\"Predict gender: \", pred_gender)\n",
    "    print(\"True Age: \", df['age'][idx])\n",
    "    print(\"Predict age group: %d - %d \"%(low,high))\n",
    "    img = Image.open(df['image'].iloc[idx])\n",
    "    display(img)"
   ]
  },
  {
   "cell_type": "code",
   "execution_count": null,
   "id": "886ba039",
   "metadata": {},
   "outputs": [],
   "source": [
    "pred_gender_age_group(15000)"
   ]
  },
  {
   "cell_type": "code",
   "execution_count": null,
   "id": "aee3469a",
   "metadata": {},
   "outputs": [],
   "source": []
  },
  {
   "cell_type": "code",
   "execution_count": null,
   "id": "4cf9a99b",
   "metadata": {},
   "outputs": [],
   "source": []
  }
 ],
 "metadata": {
  "kernelspec": {
   "display_name": "Python 3.9.12 ('base')",
   "language": "python",
   "name": "python3"
  },
  "language_info": {
   "codemirror_mode": {
    "name": "ipython",
    "version": 3
   },
   "file_extension": ".py",
   "mimetype": "text/x-python",
   "name": "python",
   "nbconvert_exporter": "python",
   "pygments_lexer": "ipython3",
   "version": "3.9.12"
  },
  "vscode": {
   "interpreter": {
    "hash": "885975577bcb294ac7d8fb51188cbe7f006f912e92673a853d3b7799352ab43a"
   }
  }
 },
 "nbformat": 4,
 "nbformat_minor": 5
}
